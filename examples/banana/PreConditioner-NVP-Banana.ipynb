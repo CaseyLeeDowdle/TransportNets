{
 "cells": [
  {
   "cell_type": "code",
   "execution_count": 12,
   "metadata": {},
   "outputs": [],
   "source": [
    "import sys\n",
    "sys.path.append(\"../..\")\n",
    "import numpy as np\n",
    "import matplotlib.pyplot as plt\n",
    "import tensorflow as tf\n",
    "import tensorflow_probability as tfp\n",
    "\n",
    "from transport_nets.models import NVP\n",
    "from transport_nets.bijectors import BananaFlow\n",
    "\n",
    "from tqdm import trange\n",
    "\n",
    "tfd = tfp.distributions\n",
    "tfb = tfp.bijectors"
   ]
  },
  {
   "cell_type": "code",
   "execution_count": 2,
   "metadata": {
    "scrolled": true
   },
   "outputs": [
    {
     "name": "stdout",
     "output_type": "stream",
     "text": [
      "Epoch 1/50\n",
      "WARNING:tensorflow:From /usr/local/lib/python3.6/dist-packages/tensorflow_probability/python/bijectors/real_nvp.py:388: dense (from tensorflow.python.layers.core) is deprecated and will be removed in a future version.\n",
      "Instructions for updating:\n",
      "Use keras.layers.Dense instead.\n",
      "WARNING:tensorflow:From /usr/local/lib/python3.6/dist-packages/tensorflow/python/layers/core.py:187: Layer.apply (from tensorflow.python.keras.engine.base_layer) is deprecated and will be removed in a future version.\n",
      "Instructions for updating:\n",
      "Please use `layer.__call__` method instead.\n",
      "WARNING:tensorflow:From /usr/local/lib/python3.6/dist-packages/tensorflow/python/ops/resource_variable_ops.py:1817: calling BaseResourceVariable.__init__ (from tensorflow.python.ops.resource_variable_ops) with constraint is deprecated and will be removed in a future version.\n",
      "Instructions for updating:\n",
      "If using Keras pass *_constraint arguments to layers.\n",
      "WARNING:tensorflow:From /usr/local/lib/python3.6/dist-packages/tensorflow_probability/python/bijectors/real_nvp.py:223: AffineScalar.__init__ (from tensorflow_probability.python.bijectors.affine_scalar) is deprecated and will be removed after 2020-01-01.\n",
      "Instructions for updating:\n",
      "`AffineScalar` bijector is deprecated; please use `tfb.Shift(loc)(tfb.Scale(...))` instead.\n",
      "50/50 [==============================] - 1s 18ms/step - Negative Log Likelihood: 0.3545\n",
      "Epoch 2/50\n",
      "50/50 [==============================] - 1s 18ms/step - Negative Log Likelihood: 0.1457\n",
      "Epoch 3/50\n",
      "50/50 [==============================] - 1s 17ms/step - Negative Log Likelihood: -0.0236\n",
      "Epoch 4/50\n",
      "50/50 [==============================] - 1s 18ms/step - Negative Log Likelihood: -0.1518\n",
      "Epoch 5/50\n",
      "50/50 [==============================] - 1s 18ms/step - Negative Log Likelihood: -0.2738\n",
      "Epoch 6/50\n",
      "50/50 [==============================] - 1s 18ms/step - Negative Log Likelihood: -0.3567\n",
      "Epoch 7/50\n",
      "50/50 [==============================] - 1s 17ms/step - Negative Log Likelihood: -0.4451\n",
      "Epoch 8/50\n",
      "50/50 [==============================] - 1s 18ms/step - Negative Log Likelihood: -0.5098\n",
      "Epoch 9/50\n",
      "50/50 [==============================] - 1s 18ms/step - Negative Log Likelihood: -0.5713\n",
      "Epoch 10/50\n",
      "50/50 [==============================] - 1s 18ms/step - Negative Log Likelihood: -0.6302\n",
      "Epoch 11/50\n",
      "50/50 [==============================] - 1s 18ms/step - Negative Log Likelihood: -0.6642\n",
      "Epoch 12/50\n",
      "50/50 [==============================] - 1s 18ms/step - Negative Log Likelihood: -0.6971\n",
      "Epoch 13/50\n",
      "50/50 [==============================] - 1s 18ms/step - Negative Log Likelihood: -0.7247\n",
      "Epoch 14/50\n",
      "50/50 [==============================] - 1s 18ms/step - Negative Log Likelihood: -0.7363\n",
      "Epoch 15/50\n",
      "50/50 [==============================] - 1s 18ms/step - Negative Log Likelihood: -0.7533\n",
      "Epoch 16/50\n",
      "50/50 [==============================] - 1s 18ms/step - Negative Log Likelihood: -0.7585\n",
      "Epoch 17/50\n",
      "50/50 [==============================] - 1s 18ms/step - Negative Log Likelihood: -0.7677\n",
      "Epoch 18/50\n",
      "50/50 [==============================] - 1s 17ms/step - Negative Log Likelihood: -0.7774\n",
      "Epoch 19/50\n",
      "50/50 [==============================] - 1s 18ms/step - Negative Log Likelihood: -0.7843\n",
      "Epoch 20/50\n",
      "50/50 [==============================] - 1s 18ms/step - Negative Log Likelihood: -0.7886\n",
      "Epoch 21/50\n",
      "50/50 [==============================] - 1s 18ms/step - Negative Log Likelihood: -0.7957\n",
      "Epoch 22/50\n",
      "50/50 [==============================] - 1s 18ms/step - Negative Log Likelihood: -0.7982\n",
      "Epoch 23/50\n",
      "50/50 [==============================] - 1s 18ms/step - Negative Log Likelihood: -0.8018\n",
      "Epoch 24/50\n",
      "50/50 [==============================] - 1s 18ms/step - Negative Log Likelihood: -0.8044\n",
      "Epoch 25/50\n",
      "50/50 [==============================] - 1s 19ms/step - Negative Log Likelihood: -0.8089\n",
      "Epoch 26/50\n",
      "50/50 [==============================] - 1s 19ms/step - Negative Log Likelihood: -0.8119\n",
      "Epoch 27/50\n",
      "50/50 [==============================] - 1s 18ms/step - Negative Log Likelihood: -0.8136\n",
      "Epoch 28/50\n",
      "50/50 [==============================] - 1s 17ms/step - Negative Log Likelihood: -0.8141\n",
      "Epoch 29/50\n",
      "50/50 [==============================] - 1s 18ms/step - Negative Log Likelihood: -0.8168\n",
      "Epoch 30/50\n",
      "50/50 [==============================] - 1s 17ms/step - Negative Log Likelihood: -0.8191\n",
      "Epoch 31/50\n",
      "50/50 [==============================] - 1s 18ms/step - Negative Log Likelihood: -0.8225\n",
      "Epoch 32/50\n",
      "50/50 [==============================] - 1s 18ms/step - Negative Log Likelihood: -0.8206\n",
      "Epoch 33/50\n",
      "50/50 [==============================] - 1s 18ms/step - Negative Log Likelihood: -0.8242\n",
      "Epoch 34/50\n",
      "50/50 [==============================] - 1s 18ms/step - Negative Log Likelihood: -0.8264\n",
      "Epoch 35/50\n",
      "50/50 [==============================] - 1s 19ms/step - Negative Log Likelihood: -0.8271\n",
      "Epoch 36/50\n",
      "50/50 [==============================] - 1s 19ms/step - Negative Log Likelihood: -0.8250\n",
      "Epoch 37/50\n",
      "50/50 [==============================] - 1s 18ms/step - Negative Log Likelihood: -0.8309\n",
      "Epoch 38/50\n",
      "50/50 [==============================] - 1s 17ms/step - Negative Log Likelihood: -0.8314\n",
      "Epoch 39/50\n",
      "50/50 [==============================] - 1s 18ms/step - Negative Log Likelihood: -0.8294\n",
      "Epoch 40/50\n",
      "50/50 [==============================] - 1s 18ms/step - Negative Log Likelihood: -0.8306\n",
      "Epoch 41/50\n",
      "50/50 [==============================] - 1s 18ms/step - Negative Log Likelihood: -0.8272\n",
      "Epoch 42/50\n",
      "50/50 [==============================] - 1s 18ms/step - Negative Log Likelihood: -0.8307\n",
      "Epoch 43/50\n",
      "50/50 [==============================] - 1s 18ms/step - Negative Log Likelihood: -0.8327\n",
      "Epoch 44/50\n",
      "50/50 [==============================] - 1s 18ms/step - Negative Log Likelihood: -0.8363\n",
      "Epoch 45/50\n",
      "50/50 [==============================] - 1s 18ms/step - Negative Log Likelihood: -0.8365\n",
      "Epoch 46/50\n",
      "50/50 [==============================] - 1s 18ms/step - Negative Log Likelihood: -0.8385\n",
      "Epoch 47/50\n",
      "50/50 [==============================] - 1s 18ms/step - Negative Log Likelihood: -0.8387\n",
      "Epoch 48/50\n",
      "50/50 [==============================] - 1s 18ms/step - Negative Log Likelihood: -0.8335\n",
      "Epoch 49/50\n",
      "50/50 [==============================] - 1s 18ms/step - Negative Log Likelihood: -0.8351\n",
      "Epoch 50/50\n",
      "50/50 [==============================] - 1s 17ms/step - Negative Log Likelihood: -0.8369\n"
     ]
    }
   ],
   "source": [
    "#target data\n",
    "num_samples = 10000\n",
    "params = (0.5,0.1,0.05,0.0)\n",
    "bFlow = BananaFlow(params)\n",
    "target = bFlow.sample(num_samples)\n",
    "\n",
    "# Create model object\n",
    "nvp = NVP(output_dim=2,num_layers=4,num_masked=1, neuron_list=[20,20])\n",
    "\n",
    "# Create optimizer and compile nvp with it\n",
    "opt = tf.keras.optimizers.Adam(learning_rate=1e-4, epsilon=1e-08)\n",
    "nvp.compile(opt)\n",
    "\n",
    "# Define training options\n",
    "n_epochs = 50\n",
    "batch_size = 200\n",
    "\n",
    "# Put the target data in a format the tf likes.\n",
    "dataset = tf.data.Dataset.from_tensor_slices(target)\n",
    "dataset = dataset.shuffle(buffer_size=num_samples).batch(batch_size)\n",
    "\n",
    "# Train the model with the new callback\n",
    "nvp.batch_norm_mode(True)\n",
    "history = nvp.fit(dataset, epochs=n_epochs)  # Pass callback to training\n",
    "\n",
    "# Set the training variables to not update when doing passes\n",
    "nvp.batch_norm_mode(False)"
   ]
  },
  {
   "cell_type": "code",
   "execution_count": 3,
   "metadata": {},
   "outputs": [
    {
     "data": {
      "text/plain": [
       "<matplotlib.legend.Legend at 0x7f1f2c23c5f8>"
      ]
     },
     "execution_count": 3,
     "metadata": {},
     "output_type": "execute_result"
    },
    {
     "data": {
      "image/png": "[encoded data removed]",
      "text/plain": [
       "<Figure size 432x288 with 1 Axes>"
      ]
     },
     "metadata": {
      "needs_background": "light"
     },
     "output_type": "display_data"
    }
   ],
   "source": [
    "# checking that nvp learned joint distribution \n",
    "nvp_sample = nvp.sample(2000)\n",
    "plt.scatter(target[:,0],target[:,1],label='target')\n",
    "plt.scatter(nvp_sample[:,0],nvp_sample[:,1],label='nvp sample')\n",
    "plt.legend()"
   ]
  },
  {
   "cell_type": "markdown",
   "metadata": {},
   "source": [
    "### Pre-Conditioner Training Scheme\n",
    "Have already trained invertible generator $f$. Want to train\n",
    "pre-generator $\\hat{f}$ to get conditional samples $x_1 \\sim p(x_1|x_2=x_2^*)$.\n",
    "\n",
    "<img src=\"images/pre-conditioner-training-diagram.png\" width=600px>\n",
    "\n",
    "Want to fit composed flow model $f\\circ \\hat{f}$ to smoothed distribution $p(x_1,x_2 | \\hat{x_2} = x_2^*)$. By minimizing KL divergence between two distributions the objective function becomes\n",
    "<img src=\"images/pre-conditioner-objective.png\" width=400px>"
   ]
  },
  {
   "cell_type": "code",
   "execution_count": 19,
   "metadata": {
    "scrolled": true
   },
   "outputs": [
    {
     "name": "stderr",
     "output_type": "stream",
     "text": [
      "loss: 41.939 :   0%|          | 0/50 [00:06<?, ?it/s]"
     ]
    },
    {
     "data": {
      "image/png": "[encoded data removed]",
      "text/plain": [
       "<Figure size 432x288 with 1 Axes>"
      ]
     },
     "metadata": {
      "needs_background": "light"
     },
     "output_type": "display_data"
    },
    {
     "name": "stderr",
     "output_type": "stream",
     "text": [
      "loss: 24.264 :  20%|██        | 10/50 [00:41<02:24,  3.60s/it]"
     ]
    },
    {
     "data": {
      "image/png": "[encoded data removed]",
      "text/plain": [
       "<Figure size 432x288 with 1 Axes>"
      ]
     },
     "metadata": {
      "needs_background": "light"
     },
     "output_type": "display_data"
    },
    {
     "name": "stderr",
     "output_type": "stream",
     "text": [
      "loss: 18.812 :  40%|████      | 20/50 [01:14<01:38,  3.27s/it]"
     ]
    },
    {
     "data": {
      "image/png": "[encoded data removed]",
      "text/plain": [
       "<Figure size 432x288 with 1 Axes>"
      ]
     },
     "metadata": {
      "needs_background": "light"
     },
     "output_type": "display_data"
    },
    {
     "name": "stderr",
     "output_type": "stream",
     "text": [
      "loss: nan :  60%|██████    | 30/50 [01:47<01:11,  3.58s/it]             \n"
     ]
    },
    {
     "ename": "ValueError",
     "evalue": "autodetected range of [nan, nan] is not finite",
     "output_type": "error",
     "traceback": [
      "\u001b[0;31m---------------------------------------------------------------------------\u001b[0m",
      "\u001b[0;31mValueError\u001b[0m                                Traceback (most recent call last)",
      "\u001b[0;32m<ipython-input-19-0a80ca7fe5bd>\u001b[0m in \u001b[0;36m<module>\u001b[0;34m\u001b[0m\n\u001b[1;32m     40\u001b[0m         \u001b[0mz1\u001b[0m \u001b[0;34m=\u001b[0m \u001b[0mnvp_pre\u001b[0m\u001b[0;34m(\u001b[0m\u001b[0mz0\u001b[0m\u001b[0;34m)\u001b[0m\u001b[0;34m\u001b[0m\u001b[0;34m\u001b[0m\u001b[0m\n\u001b[1;32m     41\u001b[0m         \u001b[0mx\u001b[0m \u001b[0;34m=\u001b[0m \u001b[0mnvp\u001b[0m\u001b[0;34m(\u001b[0m\u001b[0mz1\u001b[0m\u001b[0;34m)\u001b[0m\u001b[0;34m\u001b[0m\u001b[0;34m\u001b[0m\u001b[0m\n\u001b[0;32m---> 42\u001b[0;31m         \u001b[0mplt\u001b[0m\u001b[0;34m.\u001b[0m\u001b[0mhist\u001b[0m\u001b[0;34m(\u001b[0m\u001b[0mx\u001b[0m\u001b[0;34m[\u001b[0m\u001b[0;34m:\u001b[0m\u001b[0;34m,\u001b[0m\u001b[0;36m0\u001b[0m\u001b[0;34m]\u001b[0m\u001b[0;34m,\u001b[0m\u001b[0;36m50\u001b[0m\u001b[0;34m,\u001b[0m\u001b[0mdensity\u001b[0m\u001b[0;34m=\u001b[0m\u001b[0;32mTrue\u001b[0m\u001b[0;34m,\u001b[0m \u001b[0mlabel\u001b[0m\u001b[0;34m=\u001b[0m\u001b[0;34m'conditional samples'\u001b[0m\u001b[0;34m)\u001b[0m\u001b[0;34m\u001b[0m\u001b[0;34m\u001b[0m\u001b[0m\n\u001b[0m\u001b[1;32m     43\u001b[0m         \u001b[0mplt\u001b[0m\u001b[0;34m.\u001b[0m\u001b[0mpause\u001b[0m\u001b[0;34m(\u001b[0m\u001b[0;36m0.05\u001b[0m\u001b[0;34m)\u001b[0m\u001b[0;34m\u001b[0m\u001b[0;34m\u001b[0m\u001b[0m\n\u001b[1;32m     44\u001b[0m \u001b[0mnvp_pre\u001b[0m\u001b[0;34m.\u001b[0m\u001b[0mbatch_norm_mode\u001b[0m\u001b[0;34m(\u001b[0m\u001b[0;32mFalse\u001b[0m\u001b[0;34m)\u001b[0m\u001b[0;34m\u001b[0m\u001b[0;34m\u001b[0m\u001b[0m\n",
      "\u001b[0;32m/usr/local/lib/python3.6/dist-packages/matplotlib/pyplot.py\u001b[0m in \u001b[0;36mhist\u001b[0;34m(x, bins, range, density, weights, cumulative, bottom, histtype, align, orientation, rwidth, log, color, label, stacked, data, **kwargs)\u001b[0m\n\u001b[1;32m   2608\u001b[0m         \u001b[0malign\u001b[0m\u001b[0;34m=\u001b[0m\u001b[0malign\u001b[0m\u001b[0;34m,\u001b[0m \u001b[0morientation\u001b[0m\u001b[0;34m=\u001b[0m\u001b[0morientation\u001b[0m\u001b[0;34m,\u001b[0m \u001b[0mrwidth\u001b[0m\u001b[0;34m=\u001b[0m\u001b[0mrwidth\u001b[0m\u001b[0;34m,\u001b[0m \u001b[0mlog\u001b[0m\u001b[0;34m=\u001b[0m\u001b[0mlog\u001b[0m\u001b[0;34m,\u001b[0m\u001b[0;34m\u001b[0m\u001b[0;34m\u001b[0m\u001b[0m\n\u001b[1;32m   2609\u001b[0m         color=color, label=label, stacked=stacked, **({\"data\": data}\n\u001b[0;32m-> 2610\u001b[0;31m         if data is not None else {}), **kwargs)\n\u001b[0m\u001b[1;32m   2611\u001b[0m \u001b[0;34m\u001b[0m\u001b[0m\n\u001b[1;32m   2612\u001b[0m \u001b[0;34m\u001b[0m\u001b[0m\n",
      "\u001b[0;32m/usr/local/lib/python3.6/dist-packages/matplotlib/__init__.py\u001b[0m in \u001b[0;36minner\u001b[0;34m(ax, data, *args, **kwargs)\u001b[0m\n\u001b[1;32m   1563\u001b[0m     \u001b[0;32mdef\u001b[0m \u001b[0minner\u001b[0m\u001b[0;34m(\u001b[0m\u001b[0max\u001b[0m\u001b[0;34m,\u001b[0m \u001b[0;34m*\u001b[0m\u001b[0margs\u001b[0m\u001b[0;34m,\u001b[0m \u001b[0mdata\u001b[0m\u001b[0;34m=\u001b[0m\u001b[0;32mNone\u001b[0m\u001b[0;34m,\u001b[0m \u001b[0;34m**\u001b[0m\u001b[0mkwargs\u001b[0m\u001b[0;34m)\u001b[0m\u001b[0;34m:\u001b[0m\u001b[0;34m\u001b[0m\u001b[0;34m\u001b[0m\u001b[0m\n\u001b[1;32m   1564\u001b[0m         \u001b[0;32mif\u001b[0m \u001b[0mdata\u001b[0m \u001b[0;32mis\u001b[0m \u001b[0;32mNone\u001b[0m\u001b[0;34m:\u001b[0m\u001b[0;34m\u001b[0m\u001b[0;34m\u001b[0m\u001b[0m\n\u001b[0;32m-> 1565\u001b[0;31m             \u001b[0;32mreturn\u001b[0m \u001b[0mfunc\u001b[0m\u001b[0;34m(\u001b[0m\u001b[0max\u001b[0m\u001b[0;34m,\u001b[0m \u001b[0;34m*\u001b[0m\u001b[0mmap\u001b[0m\u001b[0;34m(\u001b[0m\u001b[0msanitize_sequence\u001b[0m\u001b[0;34m,\u001b[0m \u001b[0margs\u001b[0m\u001b[0;34m)\u001b[0m\u001b[0;34m,\u001b[0m \u001b[0;34m**\u001b[0m\u001b[0mkwargs\u001b[0m\u001b[0;34m)\u001b[0m\u001b[0;34m\u001b[0m\u001b[0;34m\u001b[0m\u001b[0m\n\u001b[0m\u001b[1;32m   1566\u001b[0m \u001b[0;34m\u001b[0m\u001b[0m\n\u001b[1;32m   1567\u001b[0m         \u001b[0mbound\u001b[0m \u001b[0;34m=\u001b[0m \u001b[0mnew_sig\u001b[0m\u001b[0;34m.\u001b[0m\u001b[0mbind\u001b[0m\u001b[0;34m(\u001b[0m\u001b[0max\u001b[0m\u001b[0;34m,\u001b[0m \u001b[0;34m*\u001b[0m\u001b[0margs\u001b[0m\u001b[0;34m,\u001b[0m \u001b[0;34m**\u001b[0m\u001b[0mkwargs\u001b[0m\u001b[0;34m)\u001b[0m\u001b[0;34m\u001b[0m\u001b[0;34m\u001b[0m\u001b[0m\n",
      "\u001b[0;32m/usr/local/lib/python3.6/dist-packages/matplotlib/axes/_axes.py\u001b[0m in \u001b[0;36mhist\u001b[0;34m(self, x, bins, range, density, weights, cumulative, bottom, histtype, align, orientation, rwidth, log, color, label, stacked, **kwargs)\u001b[0m\n\u001b[1;32m   6647\u001b[0m             \u001b[0;31m# this will automatically overwrite bins,\u001b[0m\u001b[0;34m\u001b[0m\u001b[0;34m\u001b[0m\u001b[0;34m\u001b[0m\u001b[0m\n\u001b[1;32m   6648\u001b[0m             \u001b[0;31m# so that each histogram uses the same bins\u001b[0m\u001b[0;34m\u001b[0m\u001b[0;34m\u001b[0m\u001b[0;34m\u001b[0m\u001b[0m\n\u001b[0;32m-> 6649\u001b[0;31m             \u001b[0mm\u001b[0m\u001b[0;34m,\u001b[0m \u001b[0mbins\u001b[0m \u001b[0;34m=\u001b[0m \u001b[0mnp\u001b[0m\u001b[0;34m.\u001b[0m\u001b[0mhistogram\u001b[0m\u001b[0;34m(\u001b[0m\u001b[0mx\u001b[0m\u001b[0;34m[\u001b[0m\u001b[0mi\u001b[0m\u001b[0;34m]\u001b[0m\u001b[0;34m,\u001b[0m \u001b[0mbins\u001b[0m\u001b[0;34m,\u001b[0m \u001b[0mweights\u001b[0m\u001b[0;34m=\u001b[0m\u001b[0mw\u001b[0m\u001b[0;34m[\u001b[0m\u001b[0mi\u001b[0m\u001b[0;34m]\u001b[0m\u001b[0;34m,\u001b[0m \u001b[0;34m**\u001b[0m\u001b[0mhist_kwargs\u001b[0m\u001b[0;34m)\u001b[0m\u001b[0;34m\u001b[0m\u001b[0;34m\u001b[0m\u001b[0m\n\u001b[0m\u001b[1;32m   6650\u001b[0m             \u001b[0mtops\u001b[0m\u001b[0;34m.\u001b[0m\u001b[0mappend\u001b[0m\u001b[0;34m(\u001b[0m\u001b[0mm\u001b[0m\u001b[0;34m)\u001b[0m\u001b[0;34m\u001b[0m\u001b[0;34m\u001b[0m\u001b[0m\n\u001b[1;32m   6651\u001b[0m         \u001b[0mtops\u001b[0m \u001b[0;34m=\u001b[0m \u001b[0mnp\u001b[0m\u001b[0;34m.\u001b[0m\u001b[0marray\u001b[0m\u001b[0;34m(\u001b[0m\u001b[0mtops\u001b[0m\u001b[0;34m,\u001b[0m \u001b[0mfloat\u001b[0m\u001b[0;34m)\u001b[0m  \u001b[0;31m# causes problems later if it's an int\u001b[0m\u001b[0;34m\u001b[0m\u001b[0;34m\u001b[0m\u001b[0m\n",
      "\u001b[0;32m<__array_function__ internals>\u001b[0m in \u001b[0;36mhistogram\u001b[0;34m(*args, **kwargs)\u001b[0m\n",
      "\u001b[0;32m/usr/local/lib/python3.6/dist-packages/numpy/lib/histograms.py\u001b[0m in \u001b[0;36mhistogram\u001b[0;34m(a, bins, range, normed, weights, density)\u001b[0m\n\u001b[1;32m    793\u001b[0m     \u001b[0ma\u001b[0m\u001b[0;34m,\u001b[0m \u001b[0mweights\u001b[0m \u001b[0;34m=\u001b[0m \u001b[0m_ravel_and_check_weights\u001b[0m\u001b[0;34m(\u001b[0m\u001b[0ma\u001b[0m\u001b[0;34m,\u001b[0m \u001b[0mweights\u001b[0m\u001b[0;34m)\u001b[0m\u001b[0;34m\u001b[0m\u001b[0;34m\u001b[0m\u001b[0m\n\u001b[1;32m    794\u001b[0m \u001b[0;34m\u001b[0m\u001b[0m\n\u001b[0;32m--> 795\u001b[0;31m     \u001b[0mbin_edges\u001b[0m\u001b[0;34m,\u001b[0m \u001b[0muniform_bins\u001b[0m \u001b[0;34m=\u001b[0m \u001b[0m_get_bin_edges\u001b[0m\u001b[0;34m(\u001b[0m\u001b[0ma\u001b[0m\u001b[0;34m,\u001b[0m \u001b[0mbins\u001b[0m\u001b[0;34m,\u001b[0m \u001b[0mrange\u001b[0m\u001b[0;34m,\u001b[0m \u001b[0mweights\u001b[0m\u001b[0;34m)\u001b[0m\u001b[0;34m\u001b[0m\u001b[0;34m\u001b[0m\u001b[0m\n\u001b[0m\u001b[1;32m    796\u001b[0m \u001b[0;34m\u001b[0m\u001b[0m\n\u001b[1;32m    797\u001b[0m     \u001b[0;31m# Histogram is an integer or a float array depending on the weights.\u001b[0m\u001b[0;34m\u001b[0m\u001b[0;34m\u001b[0m\u001b[0;34m\u001b[0m\u001b[0m\n",
      "\u001b[0;32m/usr/local/lib/python3.6/dist-packages/numpy/lib/histograms.py\u001b[0m in \u001b[0;36m_get_bin_edges\u001b[0;34m(a, bins, range, weights)\u001b[0m\n\u001b[1;32m    427\u001b[0m             \u001b[0;32mraise\u001b[0m \u001b[0mValueError\u001b[0m\u001b[0;34m(\u001b[0m\u001b[0;34m'`bins` must be positive, when an integer'\u001b[0m\u001b[0;34m)\u001b[0m\u001b[0;34m\u001b[0m\u001b[0;34m\u001b[0m\u001b[0m\n\u001b[1;32m    428\u001b[0m \u001b[0;34m\u001b[0m\u001b[0m\n\u001b[0;32m--> 429\u001b[0;31m         \u001b[0mfirst_edge\u001b[0m\u001b[0;34m,\u001b[0m \u001b[0mlast_edge\u001b[0m \u001b[0;34m=\u001b[0m \u001b[0m_get_outer_edges\u001b[0m\u001b[0;34m(\u001b[0m\u001b[0ma\u001b[0m\u001b[0;34m,\u001b[0m \u001b[0mrange\u001b[0m\u001b[0;34m)\u001b[0m\u001b[0;34m\u001b[0m\u001b[0;34m\u001b[0m\u001b[0m\n\u001b[0m\u001b[1;32m    430\u001b[0m \u001b[0;34m\u001b[0m\u001b[0m\n\u001b[1;32m    431\u001b[0m     \u001b[0;32melif\u001b[0m \u001b[0mnp\u001b[0m\u001b[0;34m.\u001b[0m\u001b[0mndim\u001b[0m\u001b[0;34m(\u001b[0m\u001b[0mbins\u001b[0m\u001b[0;34m)\u001b[0m \u001b[0;34m==\u001b[0m \u001b[0;36m1\u001b[0m\u001b[0;34m:\u001b[0m\u001b[0;34m\u001b[0m\u001b[0;34m\u001b[0m\u001b[0m\n",
      "\u001b[0;32m/usr/local/lib/python3.6/dist-packages/numpy/lib/histograms.py\u001b[0m in \u001b[0;36m_get_outer_edges\u001b[0;34m(a, range)\u001b[0m\n\u001b[1;32m    325\u001b[0m         \u001b[0;32mif\u001b[0m \u001b[0;32mnot\u001b[0m \u001b[0;34m(\u001b[0m\u001b[0mnp\u001b[0m\u001b[0;34m.\u001b[0m\u001b[0misfinite\u001b[0m\u001b[0;34m(\u001b[0m\u001b[0mfirst_edge\u001b[0m\u001b[0;34m)\u001b[0m \u001b[0;32mand\u001b[0m \u001b[0mnp\u001b[0m\u001b[0;34m.\u001b[0m\u001b[0misfinite\u001b[0m\u001b[0;34m(\u001b[0m\u001b[0mlast_edge\u001b[0m\u001b[0;34m)\u001b[0m\u001b[0;34m)\u001b[0m\u001b[0;34m:\u001b[0m\u001b[0;34m\u001b[0m\u001b[0;34m\u001b[0m\u001b[0m\n\u001b[1;32m    326\u001b[0m             raise ValueError(\n\u001b[0;32m--> 327\u001b[0;31m                 \"autodetected range of [{}, {}] is not finite\".format(first_edge, last_edge))\n\u001b[0m\u001b[1;32m    328\u001b[0m \u001b[0;34m\u001b[0m\u001b[0m\n\u001b[1;32m    329\u001b[0m     \u001b[0;31m# expand empty range to avoid divide by zero\u001b[0m\u001b[0;34m\u001b[0m\u001b[0;34m\u001b[0m\u001b[0;34m\u001b[0m\u001b[0m\n",
      "\u001b[0;31mValueError\u001b[0m: autodetected range of [nan, nan] is not finite"
     ]
    },
    {
     "data": {
      "image/png": "[encoded data removed]",
      "text/plain": [
       "<Figure size 432x288 with 1 Axes>"
      ]
     },
     "metadata": {
      "needs_background": "light"
     },
     "output_type": "display_data"
    }
   ],
   "source": [
    "# will have to consider multiple dimensions in x2 for future \n",
    "NormalDist = tfd.MultivariateNormalDiag(loc=[0.0,0.0], scale_diag=[1.0,1.0]) #standard normal distribution \n",
    "@tf.function\n",
    "def pre_cond_train(f,f_hat,x2_obs,sigma,batch_size,opt):\n",
    "    z0 = NormalDist.sample(batch_size)\n",
    "    with tf.GradientTape() as tape:\n",
    "        z1 = f_hat(z0)\n",
    "        loss = tf.reduce_mean(f_hat.log_prob(z1) - NormalDist.log_prob(z1)\n",
    "               + 1.0/(2.0*sigma**2)*tf.norm(f(z1)[:,1:2]-x2_obs,axis=-1)**2) \n",
    "    gradients = tape.gradient(loss, f_hat.trainable_variables)\n",
    "    opt.apply_gradients(zip(gradients, f_hat.trainable_variables))\n",
    "    return loss\n",
    "\n",
    "#pre-conditioner (structured noise)\n",
    "nvp_pre = NVP(output_dim=2,num_layers=4,num_masked=1,neuron_list=[100,100])\n",
    "_ = nvp_pre.sample(1000)\n",
    "\n",
    "batch_size_pre = 50\n",
    "dataset = tf.data.Dataset.from_tensor_slices(target)\n",
    "dataset = dataset.shuffle(buffer_size=num_samples).batch(batch_size_pre)\n",
    "\n",
    "# Adam optimizer parameters\n",
    "lr = 1e-5\n",
    "beta_1 = 0.9\n",
    "beta_2 = 0.999\n",
    "opt_pre = tf.keras.optimizers.Adam(learning_rate=lr, beta_1=beta_1, beta_2=beta_2, epsilon=1e-8)\n",
    "# whitening noise\n",
    "sigma_w = 0.1 \n",
    "x2_obs = 1.0\n",
    "\n",
    "num_epochs_pre = 50\n",
    "t = trange(num_epochs_pre)\n",
    "for epoch in t:\n",
    "    for batch in dataset:\n",
    "        loss = pre_cond_train(nvp,nvp_pre,x2_obs,sigma_w,batch_size_pre,opt_pre)\n",
    "        t.set_description(\"loss: %0.3f \" % loss.numpy())\n",
    "        t.refresh()\n",
    "    if epoch % 10 == 0:\n",
    "        z0 = NormalDist.sample(1000)\n",
    "        z1 = nvp_pre(z0)\n",
    "        x = nvp(z1)\n",
    "        plt.hist(x[:,0],50,density=True, label='conditional samples')\n",
    "        plt.pause(0.05)\n",
    "nvp_pre.batch_norm_mode(False)"
   ]
  }
 ],
 "metadata": {
  "kernelspec": {
   "display_name": "Python 3",
   "language": "python",
   "name": "python3"
  },
  "language_info": {
   "codemirror_mode": {
    "name": "ipython",
    "version": 3
   },
   "file_extension": ".py",
   "mimetype": "text/x-python",
   "name": "python",
   "nbconvert_exporter": "python",
   "pygments_lexer": "ipython3",
   "version": "3.6.9"
  }
 },
 "nbformat": 4,
 "nbformat_minor": 2
}
