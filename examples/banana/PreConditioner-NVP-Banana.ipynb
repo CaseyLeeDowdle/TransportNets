{
 "cells": [
  {
   "cell_type": "code",
   "execution_count": 1,
   "metadata": {},
   "outputs": [],
   "source": [
    "import sys\n",
    "sys.path.append(\"../..\")\n",
    "import numpy as np\n",
    "import matplotlib.pyplot as plt\n",
    "import tensorflow as tf\n",
    "import tensorflow_probability as tfp\n",
    "\n",
    "from transport_nets.models import NVP\n",
    "from transport_nets.distributions import BananaFlow\n",
    "\n",
    "from tqdm import trange\n",
    "\n",
    "tfd = tfp.distributions\n",
    "tfb = tfp.bijectors"
   ]
  },
  {
   "cell_type": "code",
   "execution_count": 2,
   "metadata": {
    "scrolled": true
   },
   "outputs": [
    {
     "name": "stdout",
     "output_type": "stream",
     "text": [
      "Epoch 1/50\n",
      "WARNING:tensorflow:From /usr/local/lib/python3.6/dist-packages/tensorflow_probability/python/bijectors/real_nvp.py:388: dense (from tensorflow.python.keras.legacy_tf_layers.core) is deprecated and will be removed in a future version.\n",
      "Instructions for updating:\n",
      "Use keras.layers.Dense instead.\n",
      "WARNING:tensorflow:From /usr/local/lib/python3.6/dist-packages/tensorflow/python/keras/legacy_tf_layers/core.py:187: Layer.apply (from tensorflow.python.keras.engine.base_layer) is deprecated and will be removed in a future version.\n",
      "Instructions for updating:\n",
      "Please use `layer.__call__` method instead.\n",
      "WARNING:tensorflow:From /usr/local/lib/python3.6/dist-packages/tensorflow/python/keras/legacy_tf_layers/base.py:551: Layer.updates (from tensorflow.python.keras.engine.base_layer) is deprecated and will be removed in a future version.\n",
      "Instructions for updating:\n",
      "This property should not be used in TensorFlow 2.0, as updates are applied automatically.\n",
      "WARNING:tensorflow:From /usr/local/lib/python3.6/dist-packages/tensorflow_probability/python/bijectors/real_nvp.py:223: AffineScalar.__init__ (from tensorflow_probability.python.bijectors.affine_scalar) is deprecated and will be removed after 2020-01-01.\n",
      "Instructions for updating:\n",
      "`AffineScalar` bijector is deprecated; please use `tfb.Shift(loc)(tfb.Scale(...))` instead.\n",
      "20/20 [==============================] - 0s 17ms/step - Negative Log Likelihood: -0.1035\n",
      "Epoch 2/50\n",
      "20/20 [==============================] - 0s 19ms/step - Negative Log Likelihood: -0.4952\n",
      "Epoch 3/50\n",
      "20/20 [==============================] - 0s 20ms/step - Negative Log Likelihood: -0.6645\n",
      "Epoch 4/50\n",
      "20/20 [==============================] - 0s 21ms/step - Negative Log Likelihood: -0.7017\n",
      "Epoch 5/50\n",
      "20/20 [==============================] - 0s 20ms/step - Negative Log Likelihood: -0.7138\n",
      "Epoch 6/50\n",
      "20/20 [==============================] - 0s 19ms/step - Negative Log Likelihood: -0.7219\n",
      "Epoch 7/50\n",
      "20/20 [==============================] - 0s 19ms/step - Negative Log Likelihood: -0.7348\n",
      "Epoch 8/50\n",
      "20/20 [==============================] - 0s 19ms/step - Negative Log Likelihood: -0.7438\n",
      "Epoch 9/50\n",
      "20/20 [==============================] - 0s 19ms/step - Negative Log Likelihood: -0.7507\n",
      "Epoch 10/50\n",
      "20/20 [==============================] - 0s 18ms/step - Negative Log Likelihood: -0.7677\n",
      "Epoch 11/50\n",
      "20/20 [==============================] - 0s 19ms/step - Negative Log Likelihood: -0.7691\n",
      "Epoch 12/50\n",
      "20/20 [==============================] - 0s 20ms/step - Negative Log Likelihood: -0.7777\n",
      "Epoch 13/50\n",
      "20/20 [==============================] - 0s 18ms/step - Negative Log Likelihood: -0.7845\n",
      "Epoch 14/50\n",
      "20/20 [==============================] - 0s 19ms/step - Negative Log Likelihood: -0.7941\n",
      "Epoch 15/50\n",
      "20/20 [==============================] - 0s 19ms/step - Negative Log Likelihood: -0.7993\n",
      "Epoch 16/50\n",
      "20/20 [==============================] - 0s 18ms/step - Negative Log Likelihood: -0.7998\n",
      "Epoch 17/50\n",
      "20/20 [==============================] - 0s 18ms/step - Negative Log Likelihood: -0.8086\n",
      "Epoch 18/50\n",
      "20/20 [==============================] - 0s 19ms/step - Negative Log Likelihood: -0.8116\n",
      "Epoch 19/50\n",
      "20/20 [==============================] - 0s 18ms/step - Negative Log Likelihood: -0.8151\n",
      "Epoch 20/50\n",
      "20/20 [==============================] - 0s 18ms/step - Negative Log Likelihood: -0.8170\n",
      "Epoch 21/50\n",
      "20/20 [==============================] - 0s 18ms/step - Negative Log Likelihood: -0.8137\n",
      "Epoch 22/50\n",
      "20/20 [==============================] - 0s 17ms/step - Negative Log Likelihood: -0.8172\n",
      "Epoch 23/50\n",
      "20/20 [==============================] - 0s 18ms/step - Negative Log Likelihood: -0.8196\n",
      "Epoch 24/50\n",
      "20/20 [==============================] - 0s 17ms/step - Negative Log Likelihood: -0.8263\n",
      "Epoch 25/50\n",
      "20/20 [==============================] - 0s 20ms/step - Negative Log Likelihood: -0.8215\n",
      "Epoch 26/50\n",
      "20/20 [==============================] - 0s 19ms/step - Negative Log Likelihood: -0.8179\n",
      "Epoch 27/50\n",
      "20/20 [==============================] - 0s 19ms/step - Negative Log Likelihood: -0.8267\n",
      "Epoch 28/50\n",
      "20/20 [==============================] - 0s 19ms/step - Negative Log Likelihood: -0.8280\n",
      "Epoch 29/50\n",
      "20/20 [==============================] - 0s 17ms/step - Negative Log Likelihood: -0.8252\n",
      "Epoch 30/50\n",
      "20/20 [==============================] - 0s 20ms/step - Negative Log Likelihood: -0.8259\n",
      "Epoch 31/50\n",
      "20/20 [==============================] - 0s 18ms/step - Negative Log Likelihood: -0.8267\n",
      "Epoch 32/50\n",
      "20/20 [==============================] - 0s 16ms/step - Negative Log Likelihood: -0.8309\n",
      "Epoch 33/50\n",
      "20/20 [==============================] - 0s 17ms/step - Negative Log Likelihood: -0.8287\n",
      "Epoch 34/50\n",
      "20/20 [==============================] - 0s 19ms/step - Negative Log Likelihood: -0.8272\n",
      "Epoch 35/50\n",
      "20/20 [==============================] - 0s 18ms/step - Negative Log Likelihood: -0.8301\n",
      "Epoch 36/50\n",
      "20/20 [==============================] - 0s 19ms/step - Negative Log Likelihood: -0.8258\n",
      "Epoch 37/50\n",
      "20/20 [==============================] - 0s 20ms/step - Negative Log Likelihood: -0.8303\n",
      "Epoch 38/50\n",
      "20/20 [==============================] - 0s 18ms/step - Negative Log Likelihood: -0.8241\n",
      "Epoch 39/50\n",
      "20/20 [==============================] - 0s 18ms/step - Negative Log Likelihood: -0.8345\n",
      "Epoch 40/50\n",
      "20/20 [==============================] - 0s 16ms/step - Negative Log Likelihood: -0.8284\n",
      "Epoch 41/50\n",
      "20/20 [==============================] - 0s 15ms/step - Negative Log Likelihood: -0.8293\n",
      "Epoch 42/50\n",
      "20/20 [==============================] - 0s 18ms/step - Negative Log Likelihood: -0.8310\n",
      "Epoch 43/50\n",
      "20/20 [==============================] - 0s 18ms/step - Negative Log Likelihood: -0.8238\n",
      "Epoch 44/50\n",
      "20/20 [==============================] - 0s 19ms/step - Negative Log Likelihood: -0.8346\n",
      "Epoch 45/50\n",
      "20/20 [==============================] - 0s 18ms/step - Negative Log Likelihood: -0.8297\n",
      "Epoch 46/50\n",
      "20/20 [==============================] - 0s 18ms/step - Negative Log Likelihood: -0.8303\n",
      "Epoch 47/50\n",
      "20/20 [==============================] - 0s 20ms/step - Negative Log Likelihood: -0.8325\n",
      "Epoch 48/50\n",
      "20/20 [==============================] - 0s 19ms/step - Negative Log Likelihood: -0.8336\n",
      "Epoch 49/50\n",
      "20/20 [==============================] - 0s 21ms/step - Negative Log Likelihood: -0.8375\n",
      "Epoch 50/50\n",
      "20/20 [==============================] - 0s 17ms/step - Negative Log Likelihood: -0.8294\n"
     ]
    }
   ],
   "source": [
    "#target data\n",
    "num_samples = 10000\n",
    "params = (0.5,0.1,0.05,0.0)\n",
    "bFlow = BananaFlow(params)\n",
    "target = bFlow.sample(num_samples)\n",
    "\n",
    "# Create model object\n",
    "nvp = NVP(output_dim=2,num_layers=6,num_masked=1, neuron_list=[100,100])\n",
    "\n",
    "# Create optimizer and compile nvp with it\n",
    "opt = tf.keras.optimizers.Adam(learning_rate=1e-4, epsilon=1e-08)\n",
    "nvp.compile(opt)\n",
    "\n",
    "# Define training options\n",
    "n_epochs = 50\n",
    "batch_size = 500\n",
    "\n",
    "# Put the target data in a format the tf likes.\n",
    "dataset = tf.data.Dataset.from_tensor_slices(target)\n",
    "dataset = dataset.shuffle(buffer_size=num_samples).batch(batch_size)\n",
    "\n",
    "# Train the model with the new callback\n",
    "history = nvp.fit(dataset, epochs=n_epochs)  # Pass callback to training\n",
    "\n",
    "# Set the training variables to not update when doing passes\n",
    "nvp.training_mode(False)"
   ]
  },
  {
   "cell_type": "code",
   "execution_count": 3,
   "metadata": {},
   "outputs": [
    {
     "data": {
      "text/plain": [
       "<matplotlib.legend.Legend at 0x7fa57c558908>"
      ]
     },
     "execution_count": 3,
     "metadata": {},
     "output_type": "execute_result"
    },
    {
     "data": {
      "image/png": "[encoded data removed]",
      "text/plain": [
       "<Figure size 432x288 with 1 Axes>"
      ]
     },
     "metadata": {
      "needs_background": "light"
     },
     "output_type": "display_data"
    }
   ],
   "source": [
    "# checking that nvp learned joint distribution \n",
    "nvp_sample = nvp.sample(2000)\n",
    "plt.scatter(target[:,0],target[:,1],label='target')\n",
    "plt.scatter(nvp_sample[:,0],nvp_sample[:,1],label='nvp sample')\n",
    "plt.legend()"
   ]
  },
  {
   "cell_type": "markdown",
   "metadata": {},
   "source": [
    "### Pre-Conditioner Training Scheme\n",
    "Have already trained invertible generator $f$. Want to train\n",
    "pre-generator $\\hat{f}$ to get conditional samples $x_1 \\sim p(x_1|x_2=x_2^*)$.\n",
    "\n",
    "<img src=\"images/pre-conditioner-training-diagram.png\" width=600px>\n",
    "\n",
    "Want to fit composed flow model $f\\circ \\hat{f}$ to smoothed distribution $p(x_1,x_2 | \\hat{x_2} = x_2^*)$. By minimizing KL divergence between two distributions the objective function becomes\n",
    "<img src=\"images/pre-conditioner-objective.png\" width=400px>"
   ]
  },
  {
   "cell_type": "code",
   "execution_count": 4,
   "metadata": {
    "scrolled": true
   },
   "outputs": [
    {
     "name": "stderr",
     "output_type": "stream",
     "text": [
      "loss: 32.014 : 100%|██████████| 100/100 [00:11<00:00,  8.63it/s]\n"
     ]
    }
   ],
   "source": [
    "from transport_nets.models import ComposedFlow\n",
    "#pre-conditioner (structured noise)\n",
    "nvp_pre = NVP(output_dim=2,num_layers=8,num_masked=1,neuron_list=[100,100])\n",
    "_ = nvp_pre.sample(1000)\n",
    "#x2_obs should be in list (rank 1)\n",
    "x2_obs = [0.5]\n",
    "lr = 1e-5\n",
    "beta_1 = 0.9\n",
    "beta_2 = 0.999\n",
    "opt_pre = tf.keras.optimizers.Adam(learning_rate=lr, beta_1=beta_1, beta_2=beta_2, epsilon=1e-6)\n",
    "output_dim= 2\n",
    "composedFlow = ComposedFlow(nvp,nvp_pre,x2_obs,output_dim,opt_pre)\n",
    "\n",
    "epochs = 100\n",
    "batch_size = 100\n",
    "sigma = 0.05 # whitening noise\n",
    "composedFlow.train_pre_conditioner(epochs,batch_size,sigma)\n",
    "nvp_pre.training_mode(False)"
   ]
  },
  {
   "cell_type": "code",
   "execution_count": 11,
   "metadata": {
    "scrolled": true
   },
   "outputs": [
    {
     "data": {
      "image/png": "[encoded data removed]",
      "text/plain": [
       "<Figure size 432x288 with 1 Axes>"
      ]
     },
     "metadata": {
      "needs_background": "light"
     },
     "output_type": "display_data"
    }
   ],
   "source": [
    "# Should be bi-modal distribution\n",
    "# Will usually collapse on just one of the modes\n",
    "X1 = composedFlow.sample(1000).numpy()\n",
    "plt.hist(X1[:,0],50,density=True);"
   ]
  }
 ],
 "metadata": {
  "kernelspec": {
   "display_name": "Python 3",
   "language": "python",
   "name": "python3"
  },
  "language_info": {
   "codemirror_mode": {
    "name": "ipython",
    "version": 3
   },
   "file_extension": ".py",
   "mimetype": "text/x-python",
   "name": "python",
   "nbconvert_exporter": "python",
   "pygments_lexer": "ipython3",
   "version": "3.6.9"
  }
 },
 "nbformat": 4,
 "nbformat_minor": 2
}
