{
 "cells": [
  {
   "cell_type": "markdown",
   "metadata": {},
   "source": [
    "## Formulation\n",
    "Lets say you have two vector valued random variables $x$ and $y$ with some joint density $p(x,y)$.  Assume you can generate samples of $(x,y)$.\n",
    "\n",
    "Let $r_i^{(k)}$ denote component $i$ of the random variable $r$ in layer $k$ of the normalizing flow.   Using a RealNVP approach, each layer of the transformation takes the form\n",
    "$$\n",
    "\\left[\\begin{array}{c}r_{0:d}^{(k+1)}\\\\ r_{d+1:D}^{(k+1)} \\end{array}\\right] = P\\left[\\begin{array}{c}r_{0:d}^{(k)}\\\\ b\\left(r_{0:d}^{(k)}\\right) + s\\left(r_{0:d}^{(k)}\\right)r_{d+1:D}^{(k)} \\end{array}\\right],\n",
    "$$\n",
    "where $P$ is a permutation matrix."
   ]
  },
  {
   "cell_type": "code",
   "execution_count": 15,
   "metadata": {},
   "outputs": [],
   "source": [
    "%matplotlib inline\n",
    "\n",
    "import logging\n",
    "logging.getLogger('tensorflow').disabled = True\n",
    "\n",
    "import sys\n",
    "sys.path.append(\"../../TransportNets\")\n",
    "\n",
    "import numpy as np\n",
    "import matplotlib.pyplot as plt\n",
    "\n",
    "import tensorflow as tf\n",
    "import tensorflow_probability as tfp\n",
    "import pandas as pd\n",
    "import h5py\n",
    "import random\n",
    "\n",
    "\n",
    "from Models.NVP import NVP\n",
    "from Probability.Distributions import RotatedBanana\n",
    "from Probability.MCMC import MH2d\n",
    "\n",
    "tfd = tfp.distributions\n",
    "tfb = tfp.bijectors"
   ]
  },
  {
   "cell_type": "code",
   "execution_count": 28,
   "metadata": {},
   "outputs": [],
   "source": [
    "N = 6000\n",
    "batch_size = 50\n",
    "n_class = 3\n",
    "n_params = 2\n",
    "n_total = n_class + n_params\n",
    "\n",
    "tile_tensor = tf.constant([N//n_class,1])\n",
    "\n",
    "X1 = tf.random.normal([N//n_class,2], mean=[-1.0,-1.0], stddev=0.3)\n",
    "Y1_one_hot = tf.constant([[0,0,1]],tf.float32)\n",
    "Y1 = tf.tile(Y1_one_hot,tile_tensor) #+ tf.random.normal([N//2,2],stddev=0.05)\n",
    "YX1 = tf.concat([Y1,X1],axis=-1)\n",
    "\n",
    "X2 = tf.random.normal([N//n_class,2], mean=[1.0,-1.0], stddev=0.3)\n",
    "Y2_one_hot = tf.constant([[0,1,0]],tf.float32)\n",
    "Y2 = tf.tile(Y2_one_hot,tile_tensor) #+ tf.random.normal([N//2,2],stddev=0.05)\n",
    "YX2 = tf.concat([Y2,X2],axis=-1)\n",
    "\n",
    "X3 = tf.random.normal([N//n_class,2], mean=[0.0,1.0], stddev=0.3)\n",
    "Y3_one_hot = tf.constant([[1,0,0]],tf.float32)\n",
    "Y3 = tf.tile(Y3_one_hot,tile_tensor) #+ tf.random.normal([N//2,2],stddev=0.05)\n",
    "YX3 = tf.concat([Y3,X3],axis=-1)\n",
    "\n",
    "YX = tf.concat([YX1,YX2,YX3],axis=0)\n",
    "dataset = tf.data.Dataset.from_tensor_slices(YX)\n",
    "dataset = dataset.shuffle(buffer_size=N).batch(batch_size)"
   ]
  },
  {
   "cell_type": "code",
   "execution_count": 30,
   "metadata": {},
   "outputs": [
    {
     "data": {
      "text/plain": [
       "Text(0.5, 1.0, 'Training Data')"
      ]
     },
     "execution_count": 30,
     "metadata": {},
     "output_type": "execute_result"
    },
    {
     "data": {
      "image/png": "[encoded data removed]",
      "text/plain": [
       "<Figure size 432x288 with 1 Axes>"
      ]
     },
     "metadata": {
      "needs_background": "light"
     },
     "output_type": "display_data"
    }
   ],
   "source": [
    "plt.scatter(X1[:,0],X1[:,1],label='class 1')\n",
    "plt.scatter(X2[:,0],X2[:,1],label='class 2')\n",
    "plt.scatter(X3[:,0],X3[:,1],label='class 3')\n",
    "plt.legend()\n",
    "plt.title('Training Data')"
   ]
  },
  {
   "cell_type": "markdown",
   "metadata": {},
   "source": [
    "### Define an NVP-based normalizing flow"
   ]
  },
  {
   "cell_type": "code",
   "execution_count": 32,
   "metadata": {},
   "outputs": [
    {
     "name": "stdout",
     "output_type": "stream",
     "text": [
      "Model: \"NVP\"\n",
      "_________________________________________________________________\n",
      "Layer (type)                 Output Shape              Param #   \n",
      "=================================================================\n",
      "Total params: 129,734\n",
      "Trainable params: 129,734\n",
      "Non-trainable params: 0\n",
      "_________________________________________________________________\n"
     ]
    }
   ],
   "source": [
    "# Create model object\n",
    "num_layers = 12\n",
    "permutations = []\n",
    "y_permutations = list(np.arange(n_class))\n",
    "x_permutations = list(np.arange(n_class,n_total))\n",
    "for i in range(num_layers):\n",
    "    random.shuffle(x_permutations)\n",
    "    permutations.append(y_permutations+x_permutations)\n",
    "\n",
    "nvp = NVP(num_masked=4, output_dim=n_total, num_layers=num_layers, neuron_list=[100,100], permutations=permutations)\n",
    "# Create optimizer and compile nvp with it\n",
    "opt = tf.keras.optimizers.Adam(learning_rate=1e-4, epsilon=1e-06)\n",
    "nvp.compile(opt)\n",
    "# Perform a forward pass to initialize variables\n",
    "_ = nvp(tf.random.normal([1,n_total]))\n",
    "nvp.summary()"
   ]
  },
  {
   "cell_type": "markdown",
   "metadata": {},
   "source": [
    "### Train the model using ADAM"
   ]
  },
  {
   "cell_type": "code",
   "execution_count": 33,
   "metadata": {},
   "outputs": [
    {
     "name": "stdout",
     "output_type": "stream",
     "text": [
      "Epoch 1/25\n",
      "120/120 [==============================] - 5s 42ms/step - Negative Log Likelihood: 2.8178\n",
      "Epoch 2/25\n",
      "120/120 [==============================] - 5s 41ms/step - Negative Log Likelihood: 2.3475\n",
      "Epoch 3/25\n",
      "120/120 [==============================] - 5s 42ms/step - Negative Log Likelihood: 2.3379\n",
      "Epoch 4/25\n",
      "120/120 [==============================] - 5s 44ms/step - Negative Log Likelihood: 2.3313\n",
      "Epoch 5/25\n",
      "120/120 [==============================] - 5s 45ms/step - Negative Log Likelihood: 2.3275\n",
      "Epoch 6/25\n",
      "120/120 [==============================] - 5s 40ms/step - Negative Log Likelihood: 2.3254\n",
      "Epoch 7/25\n",
      "120/120 [==============================] - 5s 41ms/step - Negative Log Likelihood: 2.3247\n",
      "Epoch 8/25\n",
      "120/120 [==============================] - 5s 40ms/step - Negative Log Likelihood: 2.3190\n",
      "Epoch 9/25\n",
      "120/120 [==============================] - 5s 42ms/step - Negative Log Likelihood: 2.3300\n",
      "Epoch 10/25\n",
      "120/120 [==============================] - 5s 39ms/step - Negative Log Likelihood: 2.3239\n",
      "Epoch 11/25\n",
      "120/120 [==============================] - 5s 40ms/step - Negative Log Likelihood: 2.3297\n",
      "Epoch 12/25\n",
      "120/120 [==============================] - 5s 40ms/step - Negative Log Likelihood: 2.3260\n",
      "Epoch 13/25\n",
      "120/120 [==============================] - 5s 39ms/step - Negative Log Likelihood: 2.3250\n",
      "Epoch 14/25\n",
      "120/120 [==============================] - 5s 40ms/step - Negative Log Likelihood: 2.3256\n",
      "Epoch 15/25\n",
      "120/120 [==============================] - 5s 40ms/step - Negative Log Likelihood: 2.3141\n",
      "Epoch 16/25\n",
      "120/120 [==============================] - 5s 40ms/step - Negative Log Likelihood: 2.3172\n",
      "Epoch 17/25\n",
      "120/120 [==============================] - 5s 38ms/step - Negative Log Likelihood: 2.3209\n",
      "Epoch 18/25\n",
      "120/120 [==============================] - 5s 38ms/step - Negative Log Likelihood: 2.3149\n",
      "Epoch 19/25\n",
      "120/120 [==============================] - 5s 41ms/step - Negative Log Likelihood: 2.3200\n",
      "Epoch 20/25\n",
      "120/120 [==============================] - 5s 40ms/step - Negative Log Likelihood: 2.3208\n",
      "Epoch 21/25\n",
      "120/120 [==============================] - 5s 40ms/step - Negative Log Likelihood: 2.3160\n",
      "Epoch 22/25\n",
      "120/120 [==============================] - 5s 40ms/step - Negative Log Likelihood: 2.3136\n",
      "Epoch 23/25\n",
      "120/120 [==============================] - 5s 42ms/step - Negative Log Likelihood: 2.3180\n",
      "Epoch 24/25\n",
      "120/120 [==============================] - 5s 42ms/step - Negative Log Likelihood: 2.3125\n",
      "Epoch 25/25\n",
      "120/120 [==============================] - 5s 39ms/step - Negative Log Likelihood: 2.3088\n"
     ]
    }
   ],
   "source": [
    "# Train the model with the new callback\n",
    "n_epochs = 25\n",
    "nvp.batch_norm_mode(True)\n",
    "history = nvp.fit(dataset, epochs=n_epochs)  # Pass callback to training\n",
    "# Set the training variables to not update when doing passes\n",
    "nvp.batch_norm_mode(False)"
   ]
  },
  {
   "cell_type": "markdown",
   "metadata": {},
   "source": [
    "### Plot the training history"
   ]
  },
  {
   "cell_type": "code",
   "execution_count": 34,
   "metadata": {},
   "outputs": [
    {
     "data": {
      "text/plain": [
       "[<matplotlib.lines.Line2D at 0x7fa79c6c23c8>]"
      ]
     },
     "execution_count": 34,
     "metadata": {},
     "output_type": "execute_result"
    },
    {
     "data": {
      "image/png": "[encoded data removed]",
      "text/plain": [
       "<Figure size 432x288 with 1 Axes>"
      ]
     },
     "metadata": {
      "needs_background": "light"
     },
     "output_type": "display_data"
    }
   ],
   "source": [
    "from scipy.ndimage.filters import gaussian_filter1d\n",
    "ysmoothed = gaussian_filter1d(history.history['Negative Log Likelihood'], sigma=2)\n",
    "plt.plot(history.history['Negative Log Likelihood'],'b')\n",
    "plt.plot(ysmoothed, color = 'r')"
   ]
  },
  {
   "cell_type": "markdown",
   "metadata": {},
   "source": [
    "## Sampling $p(x|y)$ using triangular structure"
   ]
  },
  {
   "cell_type": "code",
   "execution_count": 35,
   "metadata": {},
   "outputs": [],
   "source": [
    "# We want to draw condition samples from about y = y^*\n",
    "N_c = 1000\n",
    "y0 = tf.zeros([1,n_params])\n",
    "\n",
    "y1_star = tf.reshape([0.0,0.0,1.0],[-1,n_class])\n",
    "r1 = nvp.inverse(tf.concat([y1_star,y0],-1))[0,:n_class]\n",
    "cond_ref_samps1 = tf.concat([r1*tf.ones([N_c,n_class]), tf.random.normal([N_c,n_params])], axis=-1)\n",
    "cond_tgt_samps1 = nvp(cond_ref_samps1)\n",
    "cond_x1 = cond_tgt_samps1[:,n_class:]\n",
    "\n",
    "y2_star = tf.reshape([0.0,1.0,0.0],[-1,n_class])\n",
    "r2 = nvp.inverse(tf.concat([y2_star,y0],-1))[0,:n_class]\n",
    "cond_ref_samps2 = tf.concat([r2*tf.ones([N_c,n_class]), tf.random.normal([N_c,n_params])], axis=-1)\n",
    "cond_tgt_samps2 = nvp(cond_ref_samps2)\n",
    "cond_x2 = cond_tgt_samps2[:,n_class:]\n",
    "\n",
    "y3_star = tf.reshape([1.0,0.0,0.0],[-1,n_class])\n",
    "r3 = nvp.inverse(tf.concat([y3_star,y0],-1))[0,:n_class]\n",
    "cond_ref_samps3 = tf.concat([r3*tf.ones([N_c,n_class]), tf.random.normal([N_c,n_params])], axis=-1)\n",
    "cond_tgt_samps3 = nvp(cond_ref_samps3)\n",
    "cond_x3 = cond_tgt_samps3[:,n_class:]"
   ]
  },
  {
   "cell_type": "code",
   "execution_count": 36,
   "metadata": {},
   "outputs": [
    {
     "data": {
      "image/png": "[encoded data removed]",
      "text/plain": [
       "<Figure size 432x288 with 1 Axes>"
      ]
     },
     "metadata": {
      "needs_background": "light"
     },
     "output_type": "display_data"
    }
   ],
   "source": [
    "plt.scatter(cond_x1[:,0],cond_x1[:,1],label='class 1')\n",
    "plt.scatter(cond_x2[:,0],cond_x2[:,1],label='class 2')\n",
    "plt.scatter(cond_x3[:,0],cond_x3[:,1],label='class 3')\n",
    "plt.title('Class Conditional Sampling')\n",
    "plt.legend()\n",
    "plt.savefig('gaussian_mixture_sampling_3.png')"
   ]
  },
  {
   "cell_type": "code",
   "execution_count": 49,
   "metadata": {},
   "outputs": [
    {
     "data": {
      "text/plain": [
       "<tf.Tensor: shape=(1,), dtype=float32, numpy=array([inf], dtype=float32)>"
      ]
     },
     "execution_count": 49,
     "metadata": {},
     "output_type": "execute_result"
    }
   ],
   "source": [
    "inputs = tf.constant([0.0,0.0,1.0,-1.1,-1.1],shape=[1,n_total])\n",
    "nvp.prob(inputs)"
   ]
  }
 ],
 "metadata": {
  "kernelspec": {
   "display_name": "Python 3",
   "language": "python",
   "name": "python3"
  },
  "language_info": {
   "codemirror_mode": {
    "name": "ipython",
    "version": 3
   },
   "file_extension": ".py",
   "mimetype": "text/x-python",
   "name": "python",
   "nbconvert_exporter": "python",
   "pygments_lexer": "ipython3",
   "version": "3.6.9"
  }
 },
 "nbformat": 4,
 "nbformat_minor": 2
}
