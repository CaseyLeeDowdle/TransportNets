{
 "cells": [
  {
   "cell_type": "markdown",
   "metadata": {},
   "source": [
    "## Formulation\n",
    "Lets say you have two vector valued random variables $x$ and $y$ with some joint density $p(x,y)$.  Assume you can generate samples of $(x,y)$.\n",
    "\n",
    "Let $r_i^{(k)}$ denote component $i$ of the random variable $r$ in layer $k$ of the normalizing flow.   Using a RealNVP approach, each layer of the transformation takes the form\n",
    "$$\n",
    "\\left[\\begin{array}{c}r_{0:d}^{(k+1)}\\\\ r_{d+1:D}^{(k+1)} \\end{array}\\right] = P\\left[\\begin{array}{c}r_{0:d}^{(k)}\\\\ b\\left(r_{0:d}^{(k)}\\right) + s\\left(r_{0:d}^{(k)}\\right)r_{d+1:D}^{(k)} \\end{array}\\right],\n",
    "$$\n",
    "where $P$ is a permutation matrix."
   ]
  },
  {
   "cell_type": "code",
   "execution_count": 1,
   "metadata": {},
   "outputs": [],
   "source": [
    "%matplotlib inline\n",
    "\n",
    "import logging\n",
    "logging.getLogger('tensorflow').disabled = True\n",
    "\n",
    "import sys\n",
    "sys.path.append(\"../../TransportNets\")\n",
    "\n",
    "import numpy as np\n",
    "import matplotlib.pyplot as plt\n",
    "\n",
    "import tensorflow as tf\n",
    "import tensorflow_probability as tfp\n",
    "import pandas as pd\n",
    "import h5py\n",
    "import random\n",
    "\n",
    "\n",
    "from Models.NVP import NVP\n",
    "from Probability.Distributions import RotatedBanana\n",
    "from Probability.MCMC import MH2d\n",
    "\n",
    "tfd = tfp.distributions\n",
    "tfb = tfp.bijectors"
   ]
  },
  {
   "cell_type": "code",
   "execution_count": 2,
   "metadata": {},
   "outputs": [],
   "source": [
    "file = h5py.File('BeamSamples.h5','r')\n",
    "target_samples = tf.constant(np.array(file['/Samples']),dtype=tf.float32)[::5,:]\n",
    "#target_samples columns in form x,y where x are parameters and y are observations \n",
    "N_samples, latent_dim = target_samples.shape[:]\n",
    "n_obs = 6\n",
    "n_params = latent_dim - n_obs\n",
    "X = target_samples[...,:n_params]\n",
    "Y = target_samples[...,n_params:]\n",
    "YX = tf.concat([Y,X],axis=-1)\n",
    "\n",
    "# Define training options\n",
    "batch_size = 50\n",
    "\n",
    "# Put the target data in a format the tf likes.\n",
    "dataset = tf.data.Dataset.from_tensor_slices(YX)\n",
    "dataset = dataset.shuffle(buffer_size=N_samples).batch(batch_size)"
   ]
  },
  {
   "cell_type": "markdown",
   "metadata": {},
   "source": [
    "### Define an NVP-based normalizing flow"
   ]
  },
  {
   "cell_type": "code",
   "execution_count": 3,
   "metadata": {},
   "outputs": [
    {
     "name": "stdout",
     "output_type": "stream",
     "text": [
      "Model: \"NVP\"\n",
      "_________________________________________________________________\n",
      "Layer (type)                 Output Shape              Param #   \n",
      "=================================================================\n",
      "Total params: 89,742\n",
      "Trainable params: 89,742\n",
      "Non-trainable params: 0\n",
      "_________________________________________________________________\n"
     ]
    }
   ],
   "source": [
    "# Create model object\n",
    "num_layers = 8\n",
    "permutations = []\n",
    "y_permutations = list(np.arange(n_obs))\n",
    "x_permutations = list(np.arange(n_obs,latent_dim))\n",
    "for i in range(num_layers):\n",
    "    random.shuffle(x_permutations)\n",
    "    permutations.append(y_permutations+x_permutations)\n",
    "\n",
    "nvp = NVP(num_masked=8, output_dim=latent_dim, num_layers=num_layers, neuron_list=[100,100], permutations=permutations)\n",
    "# Create optimizer and compile nvp with it\n",
    "opt = tf.keras.optimizers.Adam(learning_rate=5e-4, epsilon=1e-06)\n",
    "nvp.compile(opt)\n",
    "# Perform a forward pass to initialize variables\n",
    "_ = nvp(tf.random.normal([1,latent_dim]))\n",
    "nvp.summary()"
   ]
  },
  {
   "cell_type": "markdown",
   "metadata": {},
   "source": [
    "### Train the model using ADAM"
   ]
  },
  {
   "cell_type": "code",
   "execution_count": 4,
   "metadata": {},
   "outputs": [
    {
     "name": "stdout",
     "output_type": "stream",
     "text": [
      "Epoch 1/50\n",
      "200/200 [==============================] - 6s 32ms/step - Negative Log Likelihood: -10.7981\n",
      "Epoch 2/50\n",
      "200/200 [==============================] - 6s 32ms/step - Negative Log Likelihood: -11.5262\n",
      "Epoch 3/50\n",
      "200/200 [==============================] - 6s 31ms/step - Negative Log Likelihood: -11.7598\n",
      "Epoch 4/50\n",
      "200/200 [==============================] - 6s 30ms/step - Negative Log Likelihood: -11.8556\n",
      "Epoch 5/50\n",
      "200/200 [==============================] - 6s 30ms/step - Negative Log Likelihood: -11.8895\n",
      "Epoch 6/50\n",
      "200/200 [==============================] - 6s 30ms/step - Negative Log Likelihood: -12.0553\n",
      "Epoch 7/50\n",
      "200/200 [==============================] - 6s 31ms/step - Negative Log Likelihood: -12.0700\n",
      "Epoch 8/50\n",
      "200/200 [==============================] - 6s 31ms/step - Negative Log Likelihood: -12.1253\n",
      "Epoch 9/50\n",
      "200/200 [==============================] - 6s 32ms/step - Negative Log Likelihood: -12.1688\n",
      "Epoch 10/50\n",
      "200/200 [==============================] - 6s 31ms/step - Negative Log Likelihood: -12.2606\n",
      "Epoch 11/50\n",
      "200/200 [==============================] - 6s 31ms/step - Negative Log Likelihood: -12.1744\n",
      "Epoch 12/50\n",
      "200/200 [==============================] - 6s 30ms/step - Negative Log Likelihood: -12.2781\n",
      "Epoch 13/50\n",
      "200/200 [==============================] - 6s 30ms/step - Negative Log Likelihood: -12.2844\n",
      "Epoch 14/50\n",
      "200/200 [==============================] - 6s 30ms/step - Negative Log Likelihood: -12.2920\n",
      "Epoch 15/50\n",
      "200/200 [==============================] - 6s 29ms/step - Negative Log Likelihood: -12.2432\n",
      "Epoch 16/50\n",
      "200/200 [==============================] - 6s 29ms/step - Negative Log Likelihood: -12.2627\n",
      "Epoch 17/50\n",
      "200/200 [==============================] - 6s 30ms/step - Negative Log Likelihood: -12.2696\n",
      "Epoch 18/50\n",
      "200/200 [==============================] - 6s 31ms/step - Negative Log Likelihood: -12.2787\n",
      "Epoch 19/50\n",
      "200/200 [==============================] - 6s 31ms/step - Negative Log Likelihood: -12.3438\n",
      "Epoch 20/50\n",
      "200/200 [==============================] - 6s 31ms/step - Negative Log Likelihood: -12.3757\n",
      "Epoch 21/50\n",
      "200/200 [==============================] - 6s 30ms/step - Negative Log Likelihood: -12.3804\n",
      "Epoch 22/50\n",
      "200/200 [==============================] - 6s 31ms/step - Negative Log Likelihood: -12.4316\n",
      "Epoch 23/50\n",
      "200/200 [==============================] - 6s 31ms/step - Negative Log Likelihood: -12.3356\n",
      "Epoch 24/50\n",
      "200/200 [==============================] - 6s 30ms/step - Negative Log Likelihood: -12.4195\n",
      "Epoch 25/50\n",
      "200/200 [==============================] - 6s 29ms/step - Negative Log Likelihood: -12.4447\n",
      "Epoch 26/50\n",
      "200/200 [==============================] - 6s 30ms/step - Negative Log Likelihood: -12.3723\n",
      "Epoch 27/50\n",
      "200/200 [==============================] - 6s 29ms/step - Negative Log Likelihood: -12.4241\n",
      "Epoch 28/50\n",
      "200/200 [==============================] - 6s 30ms/step - Negative Log Likelihood: -12.4916\n",
      "Epoch 29/50\n",
      "200/200 [==============================] - 6s 29ms/step - Negative Log Likelihood: -12.5288\n",
      "Epoch 30/50\n",
      "200/200 [==============================] - 6s 29ms/step - Negative Log Likelihood: -12.4979\n",
      "Epoch 31/50\n",
      "200/200 [==============================] - 6s 29ms/step - Negative Log Likelihood: -12.4911\n",
      "Epoch 32/50\n",
      "200/200 [==============================] - 6s 30ms/step - Negative Log Likelihood: -12.4968\n",
      "Epoch 33/50\n",
      "200/200 [==============================] - 6s 29ms/step - Negative Log Likelihood: -12.4504\n",
      "Epoch 34/50\n",
      "200/200 [==============================] - 6s 29ms/step - Negative Log Likelihood: -12.5302\n",
      "Epoch 35/50\n",
      "200/200 [==============================] - 6s 29ms/step - Negative Log Likelihood: -12.4859\n",
      "Epoch 36/50\n",
      "200/200 [==============================] - 6s 30ms/step - Negative Log Likelihood: -12.5610\n",
      "Epoch 37/50\n",
      "200/200 [==============================] - 6s 29ms/step - Negative Log Likelihood: -12.5560\n",
      "Epoch 38/50\n",
      "200/200 [==============================] - 6s 30ms/step - Negative Log Likelihood: -12.5902\n",
      "Epoch 39/50\n",
      "200/200 [==============================] - 6s 29ms/step - Negative Log Likelihood: -12.5472\n",
      "Epoch 40/50\n",
      "200/200 [==============================] - 6s 30ms/step - Negative Log Likelihood: -12.5272\n",
      "Epoch 41/50\n",
      "200/200 [==============================] - 6s 30ms/step - Negative Log Likelihood: -12.5542\n",
      "Epoch 42/50\n",
      "200/200 [==============================] - 6s 30ms/step - Negative Log Likelihood: -12.5881 0s - Negative Lo\n",
      "Epoch 43/50\n",
      "200/200 [==============================] - 6s 30ms/step - Negative Log Likelihood: -12.5480\n",
      "Epoch 44/50\n",
      "200/200 [==============================] - 6s 30ms/step - Negative Log Likelihood: -12.5704\n",
      "Epoch 45/50\n",
      "200/200 [==============================] - 6s 30ms/step - Negative Log Likelihood: -12.5883\n",
      "Epoch 46/50\n",
      "200/200 [==============================] - 6s 29ms/step - Negative Log Likelihood: -12.6037\n",
      "Epoch 47/50\n",
      "200/200 [==============================] - 6s 30ms/step - Negative Log Likelihood: -12.6474\n",
      "Epoch 48/50\n",
      "200/200 [==============================] - 6s 30ms/step - Negative Log Likelihood: -12.6277\n",
      "Epoch 49/50\n",
      "200/200 [==============================] - 6s 30ms/step - Negative Log Likelihood: -12.6445\n",
      "Epoch 50/50\n",
      "200/200 [==============================] - 6s 31ms/step - Negative Log Likelihood: -12.7025\n"
     ]
    }
   ],
   "source": [
    "# Train the model with the new callback\n",
    "n_epochs = 50\n",
    "nvp.batch_norm_mode(True)\n",
    "history = nvp.fit(dataset, epochs=n_epochs)  # Pass callback to training\n",
    "# Set the training variables to not update when doing passes\n",
    "nvp.batch_norm_mode(False)"
   ]
  },
  {
   "cell_type": "markdown",
   "metadata": {},
   "source": [
    "### Plot the training history"
   ]
  },
  {
   "cell_type": "code",
   "execution_count": 5,
   "metadata": {},
   "outputs": [
    {
     "data": {
      "text/plain": [
       "[<matplotlib.lines.Line2D at 0x7f6af8680860>]"
      ]
     },
     "execution_count": 5,
     "metadata": {},
     "output_type": "execute_result"
    },
    {
     "data": {
      "image/png": "[encoded data removed]",
      "text/plain": [
       "<Figure size 432x288 with 1 Axes>"
      ]
     },
     "metadata": {
      "needs_background": "light"
     },
     "output_type": "display_data"
    }
   ],
   "source": [
    "from scipy.ndimage.filters import gaussian_filter1d\n",
    "ysmoothed = gaussian_filter1d(history.history['Negative Log Likelihood'], sigma=2)\n",
    "plt.plot(history.history['Negative Log Likelihood'],'b')\n",
    "plt.plot(ysmoothed, color = 'r')"
   ]
  },
  {
   "cell_type": "markdown",
   "metadata": {},
   "source": [
    "## Sampling $p(x|y)$ using triangular structure"
   ]
  },
  {
   "cell_type": "code",
   "execution_count": 8,
   "metadata": {},
   "outputs": [],
   "source": [
    "# We want to draw condition samples from about y = y^*\n",
    "N_cond_samps = 1000\n",
    "y_star = tf.reshape(Y[0],[-1,n_obs])\n",
    "\n",
    "ref_samps = tf.random.normal([N_cond_samps,latent_dim])\n",
    "tgt_samps = nvp(ref_samps)\n",
    "\n",
    "# Figure out what the value of r1 is\n",
    "tgt_test = tf.concat([y_star, tgt_samps[0:1,n_obs:]], axis=1)\n",
    "r1 = nvp.inverse(tgt_test)[0,:n_obs]\n",
    "\n",
    "# Now generate samples using the normalizing flow and fixed value of r1\n",
    "cond_ref_samps = tf.concat([r1*tf.ones([N_cond_samps,n_obs]), tf.random.normal([N_cond_samps,n_params])], axis=-1)\n",
    "cond_tgt_samps = nvp(cond_ref_samps)\n",
    "cond_x = cond_tgt_samps[:,n_obs:]"
   ]
  },
  {
   "cell_type": "code",
   "execution_count": 10,
   "metadata": {},
   "outputs": [
    {
     "data": {
      "image/png": "[encoded data removed]",
      "text/plain": [
       "<Figure size 1080x360 with 3 Axes>"
      ]
     },
     "metadata": {
      "needs_background": "light"
     },
     "output_type": "display_data"
    }
   ],
   "source": [
    "fig,ax = plt.subplots(1,3,figsize=(15,5))\n",
    "N_bins = 40\n",
    "ax[0].hist(cond_x[:,0],N_bins,density=True)\n",
    "ax[0].set(xlabel='m1')\n",
    "ax[1].hist(cond_x[:,1],N_bins,density=True)\n",
    "ax[1].set(xlabel='m2')\n",
    "ax[2].hist(cond_x[:,2],N_bins,density=True)\n",
    "ax[2].set(xlabel='m3')\n",
    "fig.suptitle('Lower Triangular Normalizing Flow Euler-Beam')\n",
    "#plt.savefig('LTNF_Euler_Beam_samples.png')"
   ]
  }
 ],
 "metadata": {
  "kernelspec": {
   "display_name": "Python 3",
   "language": "python",
   "name": "python3"
  },
  "language_info": {
   "codemirror_mode": {
    "name": "ipython",
    "version": 3
   },
   "file_extension": ".py",
   "mimetype": "text/x-python",
   "name": "python",
   "nbconvert_exporter": "python",
   "pygments_lexer": "ipython3",
   "version": "3.6.9"
  }
 },
 "nbformat": 4,
 "nbformat_minor": 2
}
